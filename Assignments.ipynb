{
  "metadata": {
    "kernelspec": {
      "name": "python",
      "display_name": "Python (Pyodide)",
      "language": "python"
    },
    "language_info": {
      "codemirror_mode": {
        "name": "python",
        "version": 3
      },
      "file_extension": ".py",
      "mimetype": "text/x-python",
      "name": "python",
      "nbconvert_exporter": "python",
      "pygments_lexer": "ipython3",
      "version": "3.8"
    }
  },
  "nbformat_minor": 5,
  "nbformat": 4,
  "cells": [
    {
      "cell_type": "markdown",
      "source": "# PEER GRADED ASSIGNMENTS ",
      "metadata": {},
      "id": "974507b5-a7d3-415b-bb0a-d9f78a9abf98"
    },
    {
      "cell_type": "markdown",
      "source": "# INTRODUCTION ABOUT DATA SCIENCE\n\nData Science is the study of data to extract meaningful insights for business. It is a multidisciplinary approach that combines principles and practices from the fields of mathematics, statistics, artificial intelligence and computer engineering to analyze large amounts of data",
      "metadata": {},
      "id": "21cd26d6-4d25-4991-a1f7-acbea16c58b9"
    },
    {
      "cell_type": "markdown",
      "source": "# DATA SCIENCE LANGUAGES \n\nThe three popular languages in Data Science are:\n\n1. Python \n2. R programming \n3. SQL",
      "metadata": {},
      "id": "67ad7bbe-3288-4fc4-b814-fa9d8e22b95a"
    },
    {
      "cell_type": "markdown",
      "source": "# DATA SCIENCE LIBRARIES \n\n1. TensorFlow\n2. Numpy\n3. Scipy\n4. Pandas\n5. Matplotlib\n6. Keras\n7. Scikit-learn\n8. PyTorch\n9. Scrapy",
      "metadata": {},
      "id": "f7f2eb32-9dfb-4c8b-be21-4a5322095542"
    },
    {
      "cell_type": "markdown",
      "source": "# DATA SCIENCE TOOLS\n\n1. Apache Spark\n2. BigML\n3. D3\n4. MATLAB\n5. Watson Studio\n6. R Studio",
      "metadata": {},
      "id": "e7d3629f-d098-4c3d-b5c8-b8ad488c6d8e"
    },
    {
      "cell_type": "markdown",
      "source": "# ARITHEMATIC EXPRESSION",
      "metadata": {},
      "id": "854dda85-5a7b-4076-8f72-4f3528e39ed1"
    },
    {
      "cell_type": "code",
      "source": "a=2\nb=3\nprint(a+b)",
      "metadata": {
        "trusted": true
      },
      "execution_count": 14,
      "outputs": [
        {
          "name": "stdout",
          "text": "5\n",
          "output_type": "stream"
        }
      ],
      "id": "47616cda-b3cb-4fbf-8d49-fe4a6a791450"
    },
    {
      "cell_type": "code",
      "source": "# Code to add and multiply two integers\n\na = 20\nb = 30\n\nprint(a+b)\nprint(a*b)",
      "metadata": {
        "trusted": true
      },
      "execution_count": 15,
      "outputs": [
        {
          "name": "stdout",
          "text": "50\n600\n",
          "output_type": "stream"
        }
      ],
      "id": "1406b927-6758-4dee-bc27-df0fe0dafd00"
    },
    {
      "cell_type": "code",
      "source": "# Code to convert Minutes into hours\n\nMinutes = 60\nhours = minutes/60\n\nprint(hours, \"Hour\")",
      "metadata": {
        "trusted": true
      },
      "execution_count": 16,
      "outputs": [
        {
          "name": "stdout",
          "text": "1.0 Hour\n",
          "output_type": "stream"
        }
      ],
      "id": "b138e340-84fc-4906-8d09-14c8a8fa8fba"
    },
    {
      "cell_type": "markdown",
      "source": "# OBJECTIVES\n\nThis is a markdown cell to list the objectives\n\n1. Data Analysis\n2. Methods\n3. Porcessing\n4. Results",
      "metadata": {},
      "id": "68114fcc-18d1-43e8-a430-6138a77f4bda"
    },
    {
      "cell_type": "markdown",
      "source": "# AUTHOR'S NAME\n\nThis is a markdown cell to list the Author's name\n\n1. Steve\n2. Pearson\n3. Agrawal",
      "metadata": {},
      "id": "b1ced17b-7605-4d2d-8e47-771c42094d8e"
    },
    {
      "cell_type": "code",
      "source": "",
      "metadata": {},
      "execution_count": null,
      "outputs": [],
      "id": "26dcdb31-8a2c-4e9c-85c5-142a0869c273"
    }
  ]
}